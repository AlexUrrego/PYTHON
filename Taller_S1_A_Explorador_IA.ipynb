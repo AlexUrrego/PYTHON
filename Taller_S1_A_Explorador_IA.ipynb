{
  "cells": [
    {
      "cell_type": "markdown",
      "id": "107f48ee-52a0-4c31-8616-62f0c6d08c44",
      "metadata": {
        "id": "107f48ee-52a0-4c31-8616-62f0c6d08c44"
      },
      "source": [
        "#Introducción a la Programación con Python"
      ]
    },
    {
      "cell_type": "markdown",
      "id": "b4b3f36d-d890-4bbf-9a7d-d3b41fac5f28",
      "metadata": {
        "id": "b4b3f36d-d890-4bbf-9a7d-d3b41fac5f28"
      },
      "source": [
        "- Operadores Aritméticos"
      ]
    },
    {
      "cell_type": "markdown",
      "id": "c4ef828e-4186-407b-ad79-ba97eed7c741",
      "metadata": {
        "id": "c4ef828e-4186-407b-ad79-ba97eed7c741"
      },
      "source": [
        "#- Variables y asignaciones"
      ]
    },
    {
      "cell_type": "markdown",
      "id": "ea41ab63-e16c-49b9-83c6-d596c6d5bf1f",
      "metadata": {
        "id": "ea41ab63-e16c-49b9-83c6-d596c6d5bf1f"
      },
      "source": [
        "Ya has usado iPython de calculadora con expresiones como sumas"
      ]
    },
    {
      "cell_type": "markdown",
      "id": "67de4824-f60b-42ad-94c0-88ef30c200f7",
      "metadata": {
        "id": "67de4824-f60b-42ad-94c0-88ef30c200f7"
      },
      "source": [
        "Creemos una variable w que valga 39"
      ]
    },
    {
      "cell_type": "code",
      "execution_count": null,
      "id": "8bc4f8d0-21dc-49ab-9dcc-3f3cff6dcad1",
      "metadata": {
        "id": "8bc4f8d0-21dc-49ab-9dcc-3f3cff6dcad1"
      },
      "outputs": [],
      "source": [
        "#Espacio para Solucionar\n",
        "\n"
      ]
    },
    {
      "cell_type": "markdown",
      "id": "a8787aa5-1a17-4584-895a-af65cc8caccc",
      "metadata": {
        "id": "a8787aa5-1a17-4584-895a-af65cc8caccc"
      },
      "source": [
        " Python reconoce a la variable w como un entero."
      ]
    },
    {
      "cell_type": "code",
      "execution_count": null,
      "id": "afe037f0-de37-41e2-953d-d844e0a80fda",
      "metadata": {
        "id": "afe037f0-de37-41e2-953d-d844e0a80fda"
      },
      "outputs": [],
      "source": [
        "#Espacio para Solucionar"
      ]
    },
    {
      "cell_type": "code",
      "execution_count": null,
      "id": "3c6d97c5-83ab-4e21-9ac7-19af7773bd28",
      "metadata": {
        "id": "3c6d97c5-83ab-4e21-9ac7-19af7773bd28"
      },
      "outputs": [],
      "source": []
    },
    {
      "cell_type": "markdown",
      "id": "005e7373-42db-4a0d-adfd-9bbce8142a24",
      "metadata": {
        "id": "005e7373-42db-4a0d-adfd-9bbce8142a24"
      },
      "source": [
        "#### Por tu cuenta\n",
        "\n",
        "Calcula la suma de 10.8, 12.2 y 0.2, guardala en una variable llamada b, y muestra la variable"
      ]
    },
    {
      "cell_type": "code",
      "execution_count": null,
      "id": "b311d94d-52f6-4118-a6aa-76bea95587ab",
      "metadata": {
        "id": "b311d94d-52f6-4118-a6aa-76bea95587ab"
      },
      "outputs": [],
      "source": [
        "#Espacio para Solucionar"
      ]
    },
    {
      "cell_type": "markdown",
      "id": "9465c9ba-b34b-429a-8881-36d24df64a7e",
      "metadata": {
        "id": "9465c9ba-b34b-429a-8881-36d24df64a7e"
      },
      "source": [
        "- Aritmetica"
      ]
    },
    {
      "cell_type": "markdown",
      "id": "7b42b218-4742-47d9-b736-e98261be0587",
      "metadata": {
        "id": "7b42b218-4742-47d9-b736-e98261be0587"
      },
      "source": [
        "##### Multiplicación\n",
        "\n",
        "Realiza un 7 * 4"
      ]
    },
    {
      "cell_type": "code",
      "execution_count": null,
      "id": "6b91ef2e-d2e0-4b02-8f26-0711925b0776",
      "metadata": {
        "id": "6b91ef2e-d2e0-4b02-8f26-0711925b0776"
      },
      "outputs": [],
      "source": [
        "#Espacio para Solucionar"
      ]
    },
    {
      "cell_type": "markdown",
      "id": "6d23d001-7a4c-4145-b914-2f82ed77037a",
      "metadata": {
        "id": "6d23d001-7a4c-4145-b914-2f82ed77037a"
      },
      "source": [
        "##### Exponenciación\n",
        "\n",
        "Realiza un 2 ** 4"
      ]
    },
    {
      "cell_type": "code",
      "execution_count": null,
      "id": "9099f0a2-8c8a-43bb-89f7-1777ad5ffcad",
      "metadata": {
        "id": "9099f0a2-8c8a-43bb-89f7-1777ad5ffcad"
      },
      "outputs": [],
      "source": [
        "#Espacio para Solucionar"
      ]
    },
    {
      "cell_type": "markdown",
      "id": "7221d3fd-6edd-4646-960e-5234eb1224cb",
      "metadata": {
        "id": "7221d3fd-6edd-4646-960e-5234eb1224cb"
      },
      "source": [
        "##### División Verdadera\n",
        "\n",
        "Divide 8/5"
      ]
    },
    {
      "cell_type": "code",
      "execution_count": null,
      "id": "956eaff7-044d-4321-9117-9c79838fdfe9",
      "metadata": {
        "id": "956eaff7-044d-4321-9117-9c79838fdfe9"
      },
      "outputs": [],
      "source": [
        "#Espacio para Solucionar"
      ]
    },
    {
      "cell_type": "markdown",
      "id": "acd82688-1da7-4d4b-8770-a2c8cf1a9959",
      "metadata": {
        "id": "acd82688-1da7-4d4b-8770-a2c8cf1a9959"
      },
      "source": [
        "##### División de piso\n",
        "\n",
        "Divide 20//6 - verás como te da un rsultado entero"
      ]
    },
    {
      "cell_type": "code",
      "execution_count": null,
      "id": "5bdd55d8-2a08-49b5-80bd-98c741b5b3a1",
      "metadata": {
        "id": "5bdd55d8-2a08-49b5-80bd-98c741b5b3a1"
      },
      "outputs": [],
      "source": [
        "#Espacio para Solucionar"
      ]
    },
    {
      "cell_type": "markdown",
      "id": "7c5a2f8a-d79d-40f6-a019-ac2ad4e176b8",
      "metadata": {
        "id": "7c5a2f8a-d79d-40f6-a019-ac2ad4e176b8"
      },
      "source": [
        "##### Restante\n",
        "\n",
        "Ahora obten el restante de dividir 26 / 8 usando el operador %"
      ]
    },
    {
      "cell_type": "code",
      "execution_count": null,
      "id": "06df6019-2880-42da-bc70-e8fe75b8085f",
      "metadata": {
        "id": "06df6019-2880-42da-bc70-e8fe75b8085f"
      },
      "outputs": [],
      "source": [
        "#Espacio para Solucionar"
      ]
    },
    {
      "cell_type": "markdown",
      "id": "7b682671-bc7b-4e34-8fe8-7b9034a43bc9",
      "metadata": {
        "id": "7b682671-bc7b-4e34-8fe8-7b9034a43bc9"
      },
      "source": [
        "##### División de piso\n",
        "\n",
        "Divide 20//6 - verás como te da un resultado entero"
      ]
    },
    {
      "cell_type": "code",
      "execution_count": null,
      "id": "e74bf267-cecf-4e6c-99ff-8e40b2aac32a",
      "metadata": {
        "id": "e74bf267-cecf-4e6c-99ff-8e40b2aac32a"
      },
      "outputs": [],
      "source": [
        "#Espacio para Solucionar"
      ]
    },
    {
      "cell_type": "code",
      "source": [],
      "metadata": {
        "id": "WeXRDTN4AXen"
      },
      "id": "WeXRDTN4AXen",
      "execution_count": null,
      "outputs": []
    },
    {
      "cell_type": "markdown",
      "id": "3259cdcb-13a8-40c6-99fa-bd6611dabc99",
      "metadata": {
        "id": "3259cdcb-13a8-40c6-99fa-bd6611dabc99"
      },
      "source": [
        "##### Agrupación con parentesis\n",
        "\n",
        "Revisa que python respeta la jerarquia de operaciones"
      ]
    },
    {
      "cell_type": "code",
      "execution_count": null,
      "id": "15f252d5-a478-49d9-b98e-01630d77d227",
      "metadata": {
        "id": "15f252d5-a478-49d9-b98e-01630d77d227"
      },
      "outputs": [],
      "source": [
        "#Espacio para Solucionar"
      ]
    },
    {
      "cell_type": "markdown",
      "id": "f280f822-c9b1-4c44-91a3-c6a18ee83f2b",
      "metadata": {
        "id": "f280f822-c9b1-4c44-91a3-c6a18ee83f2b"
      },
      "source": [
        "#### Por tu cuenta\n",
        "\n",
        "Evalua la expresión 3*(4-5) con y sin parentesis. Son los paréntesis redundantes?"
      ]
    },
    {
      "cell_type": "code",
      "source": [
        "#Espacio para Solucionar"
      ],
      "metadata": {
        "id": "ccygV8ptAlL8"
      },
      "id": "ccygV8ptAlL8",
      "execution_count": null,
      "outputs": []
    },
    {
      "cell_type": "markdown",
      "id": "fcbe6ca4-24fd-4150-b7bb-f870814b662e",
      "metadata": {
        "id": "fcbe6ca4-24fd-4150-b7bb-f870814b662e"
      },
      "source": [
        "Función print, arreglos con comillas simples y dobles comillas"
      ]
    },
    {
      "cell_type": "markdown",
      "id": "d5b0476e-8651-4ade-acbe-5a03a0866865",
      "metadata": {
        "id": "d5b0476e-8651-4ade-acbe-5a03a0866865"
      },
      "source": [
        "La función Print"
      ]
    },
    {
      "cell_type": "markdown",
      "id": "18ca616b-3a2c-4184-8381-3a5e6a970e8d",
      "metadata": {
        "id": "18ca616b-3a2c-4184-8381-3a5e6a970e8d"
      },
      "source": [
        "ejecuta el siguiente snippet\n",
        "\n",
        "**print(“Hoy aprenderé a usar la función print”)**"
      ]
    },
    {
      "cell_type": "code",
      "execution_count": null,
      "id": "058c39e6-75ad-4a4a-b97c-44dc1d4bd4cc",
      "metadata": {
        "id": "058c39e6-75ad-4a4a-b97c-44dc1d4bd4cc"
      },
      "outputs": [],
      "source": [
        "#Espacio para Solucionar"
      ]
    },
    {
      "cell_type": "code",
      "execution_count": null,
      "id": "cd3ab393-c28b-4d4c-aac9-23ea0389ef07",
      "metadata": {
        "id": "cd3ab393-c28b-4d4c-aac9-23ea0389ef07"
      },
      "outputs": [],
      "source": [
        "#Espacio para Solucionar"
      ]
    },
    {
      "cell_type": "markdown",
      "id": "8269f4b5-ae18-416f-be14-a05d1da536e2",
      "metadata": {
        "id": "8269f4b5-ae18-416f-be14-a05d1da536e2"
      },
      "source": [
        "Ahora Ejecuta\n",
        "\n",
        "**Print(“Hoy aprenderé a usar la función print”)**"
      ]
    },
    {
      "cell_type": "code",
      "execution_count": null,
      "id": "8100353f-2679-469d-b979-46a710dac3a0",
      "metadata": {
        "id": "8100353f-2679-469d-b979-46a710dac3a0"
      },
      "outputs": [],
      "source": [
        "#Espacio para Solucionar"
      ]
    },
    {
      "cell_type": "code",
      "execution_count": null,
      "id": "5ab0e8d1-7972-4f3e-b533-37f025a0a260",
      "metadata": {
        "id": "5ab0e8d1-7972-4f3e-b533-37f025a0a260"
      },
      "outputs": [],
      "source": [
        "#Espacio para Solucionar"
      ]
    },
    {
      "cell_type": "markdown",
      "id": "63a86fc8-6aee-4501-8474-4b11c0cdd7e6",
      "metadata": {
        "id": "63a86fc8-6aee-4501-8474-4b11c0cdd7e6"
      },
      "source": [
        "Por ejemplo, para declarar el arreglo\n",
        "Hoy aprenderé a usar la función ‘print’"
      ]
    },
    {
      "cell_type": "markdown",
      "id": "36f2a965-9b25-4353-9af0-ae233e25fbe8",
      "metadata": {
        "id": "36f2a965-9b25-4353-9af0-ae233e25fbe8"
      },
      "source": [
        "**print(“Hoy aprenderé a usar la función ‘print’”)**"
      ]
    },
    {
      "cell_type": "code",
      "execution_count": null,
      "id": "45a00297-3508-4bf3-aa5b-dff48ff9fe2d",
      "metadata": {
        "id": "45a00297-3508-4bf3-aa5b-dff48ff9fe2d"
      },
      "outputs": [],
      "source": [
        "#Espacio para Solucionar"
      ]
    },
    {
      "cell_type": "markdown",
      "id": "bde0dc8c-4eaf-4745-99f3-28da569395a3",
      "metadata": {
        "id": "bde0dc8c-4eaf-4745-99f3-28da569395a3"
      },
      "source": [
        "Triples comillas\n",
        "\n",
        "Esto se resuelve utilizando dobles comillas"
      ]
    },
    {
      "cell_type": "code",
      "execution_count": null,
      "id": "e0fdec45-8cb7-4be5-994c-87eef67685d9",
      "metadata": {
        "id": "e0fdec45-8cb7-4be5-994c-87eef67685d9"
      },
      "outputs": [],
      "source": [
        "#Espacio para Solucionar"
      ]
    },
    {
      "cell_type": "markdown",
      "id": "ea86c6b8-771a-4617-9fec-a93916e87a53",
      "metadata": {
        "id": "ea86c6b8-771a-4617-9fec-a93916e87a53"
      },
      "source": [
        "Esta diferencia será más obvia cuando trabajemos líneas de texto en el ambiente de JupyterLab.\n",
        "Otras opciones para insertar texto el prompt de Anaconda son\n",
        "\n",
        "**print(‘Hoy aprenderé’,’a usar’, ‘la función print’)**\n",
        "\n",
        "**print(‘Hoy aprenderé\\n a usar\\n la función print’)**\n",
        "\n",
        "\n",
        "print(‘También aprenderé a dividir \\\n",
        "\n",
        "…: líneas de texto cuando las expresiones \\\n",
        "\n",
        "…: sean demasiado largas’)"
      ]
    },
    {
      "cell_type": "code",
      "execution_count": null,
      "id": "fe21f618-e1aa-450a-a732-ac880a71eaba",
      "metadata": {
        "id": "fe21f618-e1aa-450a-a732-ac880a71eaba"
      },
      "outputs": [],
      "source": [
        "#Espacio para Solucionar"
      ]
    },
    {
      "cell_type": "code",
      "execution_count": null,
      "id": "c6db0446-e2b8-4222-8607-613a16ff8329",
      "metadata": {
        "id": "c6db0446-e2b8-4222-8607-613a16ff8329"
      },
      "outputs": [],
      "source": [
        "#Espacio para Solucionar"
      ]
    },
    {
      "cell_type": "code",
      "execution_count": null,
      "id": "e478be1c-2a17-4323-9e34-48b79dd5bcbc",
      "metadata": {
        "id": "e478be1c-2a17-4323-9e34-48b79dd5bcbc"
      },
      "outputs": [],
      "source": [
        "#Espacio para Solucionar"
      ]
    },
    {
      "cell_type": "code",
      "execution_count": null,
      "id": "91c9ef9e-e337-41ec-a9c8-e098680573b9",
      "metadata": {
        "id": "91c9ef9e-e337-41ec-a9c8-e098680573b9"
      },
      "outputs": [],
      "source": [
        "#Espacio para Solucionar"
      ]
    },
    {
      "cell_type": "markdown",
      "id": "da8ab0c5-ed69-491b-b0c3-b951eab1b304",
      "metadata": {
        "id": "da8ab0c5-ed69-491b-b0c3-b951eab1b304"
      },
      "source": [
        "Cuando requieras utilizar comillas dobles y sencillas en algún enunciado, por ejemplo\n",
        "\n",
        "Aprender ‘Python’, es realmente “sencillo”\n",
        "\n",
        "Es posible hacerlo utilizando triples comillas"
      ]
    },
    {
      "cell_type": "code",
      "execution_count": null,
      "id": "610e6493-a12e-4519-a32e-a79194139457",
      "metadata": {
        "id": "610e6493-a12e-4519-a32e-a79194139457"
      },
      "outputs": [],
      "source": [
        "#Espacio para Solucionar"
      ]
    },
    {
      "cell_type": "code",
      "execution_count": null,
      "id": "00c20559-ed84-49a3-a6d7-f9133036c938",
      "metadata": {
        "id": "00c20559-ed84-49a3-a6d7-f9133036c938"
      },
      "outputs": [],
      "source": [
        "#Espacio para Solucionar"
      ]
    },
    {
      "cell_type": "markdown",
      "id": "13741755-cfd3-4ced-bd60-8722bc73c0d2",
      "metadata": {
        "id": "13741755-cfd3-4ced-bd60-8722bc73c0d2"
      },
      "source": [
        "Con Python, puedes asignar a una variable un arreglo de caracteres\n",
        "\n",
        "**arreglo1=‘Hoy aprenderé a usar la función print’**"
      ]
    },
    {
      "cell_type": "code",
      "execution_count": null,
      "id": "a825385d-73b8-4468-8bd3-594a5d7d6abe",
      "metadata": {
        "id": "a825385d-73b8-4468-8bd3-594a5d7d6abe"
      },
      "outputs": [],
      "source": [
        "#Espacio para Solucionar"
      ]
    },
    {
      "cell_type": "code",
      "execution_count": null,
      "id": "c4bd2820-8dc7-4cdc-9cec-4b0f2040c59d",
      "metadata": {
        "id": "c4bd2820-8dc7-4cdc-9cec-4b0f2040c59d"
      },
      "outputs": [],
      "source": [
        "#Espacio para Solucionar"
      ]
    },
    {
      "cell_type": "code",
      "execution_count": null,
      "id": "69bd8a7e-6cbf-4a54-97d0-defdae499b3f",
      "metadata": {
        "id": "69bd8a7e-6cbf-4a54-97d0-defdae499b3f"
      },
      "outputs": [],
      "source": [
        "#Espacio para Solucionar"
      ]
    },
    {
      "cell_type": "markdown",
      "id": "3b14599d-02fb-4c28-8dfd-b27b01ee8e28",
      "metadata": {
        "id": "3b14599d-02fb-4c28-8dfd-b27b01ee8e28"
      },
      "source": [
        "Con estas herramientas, ya puedes mostrar los resultados de los cálculos en una forma más amigable\n",
        "\n",
        "Arma un programa que divida 2 variables y devuelva \"w elevado a la z da por resultado y\""
      ]
    },
    {
      "cell_type": "code",
      "execution_count": null,
      "id": "6e2e6bd5-ccdc-4dad-9a3b-a98149839106",
      "metadata": {
        "id": "6e2e6bd5-ccdc-4dad-9a3b-a98149839106"
      },
      "outputs": [],
      "source": [
        "#Espacio para Solucionar"
      ]
    },
    {
      "cell_type": "code",
      "execution_count": null,
      "id": "2a939657-8034-42dd-ab09-97046e3fcc19",
      "metadata": {
        "id": "2a939657-8034-42dd-ab09-97046e3fcc19"
      },
      "outputs": [],
      "source": [
        "#Espacio para Solucionar"
      ]
    },
    {
      "cell_type": "code",
      "execution_count": null,
      "id": "212f99e9-b2d4-4f22-b12c-0690102154cb",
      "metadata": {
        "id": "212f99e9-b2d4-4f22-b12c-0690102154cb"
      },
      "outputs": [],
      "source": [
        "#Espacio para Solucionar"
      ]
    },
    {
      "cell_type": "markdown",
      "id": "b4585070-9949-427a-84f5-ccf0a3a7f9a1",
      "metadata": {
        "id": "b4585070-9949-427a-84f5-ccf0a3a7f9a1"
      },
      "source": [
        "Obtener input del usuario\n",
        "\n",
        "Input que solicita al usuario la información específica que debe ingresar al programa\n",
        "\n",
        "**nombre=input(‘¿Cuál es tu nombre?’)**"
      ]
    },
    {
      "cell_type": "code",
      "execution_count": null,
      "id": "371649c1-a963-41d4-8025-670791d36f73",
      "metadata": {
        "id": "371649c1-a963-41d4-8025-670791d36f73"
      },
      "outputs": [],
      "source": [
        "#Espacio para Solucionar"
      ]
    },
    {
      "cell_type": "code",
      "execution_count": null,
      "id": "cc70c163-f2cd-46e3-b49d-4dbe789155be",
      "metadata": {
        "id": "cc70c163-f2cd-46e3-b49d-4dbe789155be"
      },
      "outputs": [],
      "source": [
        "#Espacio para Solucionar"
      ]
    },
    {
      "cell_type": "markdown",
      "id": "a853d83c-f42c-4ed3-83eb-2f76d179f626",
      "metadata": {
        "id": "a853d83c-f42c-4ed3-83eb-2f76d179f626"
      },
      "source": [
        "Posteriormente puedes llamar a la variable nombre"
      ]
    },
    {
      "cell_type": "markdown",
      "id": "f4591abb-8139-466e-a48b-cda83af1bd14",
      "metadata": {
        "id": "f4591abb-8139-466e-a48b-cda83af1bd14"
      },
      "source": [
        "Por default, Python guarda las entradas que recibe del comando input como un arreglo. Revise el type en cuestión"
      ]
    },
    {
      "cell_type": "code",
      "execution_count": null,
      "id": "cd0ea52b-96b1-4fcd-8be9-322e95a877aa",
      "metadata": {
        "id": "cd0ea52b-96b1-4fcd-8be9-322e95a877aa"
      },
      "outputs": [],
      "source": [
        "#Espacio para Solucionar"
      ]
    },
    {
      "cell_type": "markdown",
      "id": "5a50edd7-4634-4c10-a0f9-e2a3fb07cd84",
      "metadata": {
        "id": "5a50edd7-4634-4c10-a0f9-e2a3fb07cd84"
      },
      "source": [
        "Arma un programa que te pida 2 números y los sume"
      ]
    },
    {
      "cell_type": "code",
      "execution_count": null,
      "id": "74947eed-8b26-4a2a-9c0e-567bd73988b7",
      "metadata": {
        "id": "74947eed-8b26-4a2a-9c0e-567bd73988b7"
      },
      "outputs": [],
      "source": [
        "#Espacio para Solucionar"
      ]
    },
    {
      "cell_type": "markdown",
      "id": "69fe69ee-445e-424c-bcd1-8af19b75ef4e",
      "metadata": {
        "id": "69fe69ee-445e-424c-bcd1-8af19b75ef4e"
      },
      "source": [
        "No se pudo, para que python pueda hay que usar **int()**"
      ]
    },
    {
      "cell_type": "code",
      "execution_count": null,
      "id": "8dc93858-923a-41b8-b179-6025fd33878f",
      "metadata": {
        "id": "8dc93858-923a-41b8-b179-6025fd33878f"
      },
      "outputs": [],
      "source": [
        "#Espacio para Solucionar"
      ]
    },
    {
      "cell_type": "markdown",
      "id": "715564fc-75c1-4dd4-b115-89e1763246a4",
      "metadata": {
        "id": "715564fc-75c1-4dd4-b115-89e1763246a4"
      },
      "source": [
        "#### Por tu cuenta\n",
        "\n",
        "Usa float() para convertir \"6.2\" (una cadena) a un valor flotante"
      ]
    },
    {
      "cell_type": "code",
      "execution_count": null,
      "id": "62e04f9b-7f4f-4a24-a17b-3a9210c6a8ce",
      "metadata": {
        "id": "62e04f9b-7f4f-4a24-a17b-3a9210c6a8ce"
      },
      "outputs": [],
      "source": [
        "#Espacio para Solucionar"
      ]
    },
    {
      "cell_type": "code",
      "execution_count": null,
      "id": "b747f326-73e0-40eb-9549-696ef4935c5e",
      "metadata": {
        "id": "b747f326-73e0-40eb-9549-696ef4935c5e"
      },
      "outputs": [],
      "source": [
        "#Espacio para Solucionar"
      ]
    },
    {
      "cell_type": "code",
      "execution_count": null,
      "id": "f01afb25-e78e-478a-b4f9-93de110705bf",
      "metadata": {
        "id": "f01afb25-e78e-478a-b4f9-93de110705bf"
      },
      "outputs": [],
      "source": [
        "#Espacio para Solucionar"
      ]
    },
    {
      "cell_type": "markdown",
      "id": "ff47d95b-02aa-4c5a-a539-df106c393c09",
      "metadata": {
        "id": "ff47d95b-02aa-4c5a-a539-df106c393c09"
      },
      "source": [
        "---"
      ]
    },
    {
      "cell_type": "markdown",
      "id": "02620ade-789c-4784-a14b-47095b74f033",
      "metadata": {
        "id": "02620ade-789c-4784-a14b-47095b74f033"
      },
      "source": [
        "Primeros Programas con python"
      ]
    },
    {
      "cell_type": "markdown",
      "id": "056407e5-1261-49e1-81cc-d56e3107abb6",
      "metadata": {
        "id": "056407e5-1261-49e1-81cc-d56e3107abb6"
      },
      "source": [
        "Ejecuta el siguiente script.\n",
        "\n",
        "Se pude ejecutar desde Consola de forma Local en el PC"
      ]
    },
    {
      "cell_type": "code",
      "source": [
        "print('Ingresa tu edad y la de tu mejor amigo, para decirte la relación qué hay entre ellas ')\n",
        "#Lee la primera edad\n",
        "edad1=int(input('Ingresa tu edad: '))\n",
        "edad2=int(input('Ingresa la edad de tu mejor amigo: '))\n",
        "\n",
        "\n",
        "if edad1==edad2:\n",
        "    print(edad1,'es igual',edad2,'\\n Tu amigo y tú, tienen la misma edad.')\n",
        "if edad1 !=edad2:\n",
        "    print(edad1,' es diferente de',edad2,'\\n Tu amigo y tú tienen edades diferentes.')\n",
        "if edad1 < edad2:\n",
        "    print(edad1,' es menor que',edad2,'\\n Tu amigo es mayor que tú.')\n",
        "if edad1 > edad2:\n",
        "    print(edad1,' es mayor que',edad2,'\\n Tu amigo es menor que tú.')\n",
        "if edad1 <= edad2:\n",
        "    print(edad1,' es menor o igual a',edad2,'\\n Tu amigo tiene al menos, tu edad.')\n",
        "if edad1 > edad2:\n",
        "    print(edad1,' es mayor que',edad2,'\\n Tu amigo tiene a lo más, tu edad.')\n"
      ],
      "metadata": {
        "id": "6Lif1jWZBJZ1"
      },
      "id": "6Lif1jWZBJZ1",
      "execution_count": null,
      "outputs": []
    },
    {
      "cell_type": "markdown",
      "id": "233bebf3-995f-47cb-9c2b-8ff13c938a44",
      "metadata": {
        "id": "233bebf3-995f-47cb-9c2b-8ff13c938a44"
      },
      "source": [
        "Recuerda que en python también podemos hacer comparaciones mayor y menor que"
      ]
    },
    {
      "cell_type": "markdown",
      "id": "3bffa3af-3dd7-4672-94d1-bbe18ae7247e",
      "metadata": {
        "id": "3bffa3af-3dd7-4672-94d1-bbe18ae7247e"
      },
      "source": [
        "Y que también, para cehcar si algo es igual, se usa =="
      ]
    },
    {
      "cell_type": "code",
      "execution_count": null,
      "id": "f452cf39-21cd-4b35-aa13-48b1604cc5d2",
      "metadata": {
        "id": "f452cf39-21cd-4b35-aa13-48b1604cc5d2"
      },
      "outputs": [],
      "source": []
    },
    {
      "cell_type": "markdown",
      "id": "58b2b137-def5-4acb-ae48-f07f3783d3de",
      "metadata": {
        "id": "58b2b137-def5-4acb-ae48-f07f3783d3de"
      },
      "source": [
        "---"
      ]
    }
  ],
  "metadata": {
    "kernelspec": {
      "display_name": "Python 3",
      "language": "python",
      "name": "python3"
    },
    "language_info": {
      "codemirror_mode": {
        "name": "ipython",
        "version": 3
      },
      "file_extension": ".py",
      "mimetype": "text/x-python",
      "name": "python",
      "nbconvert_exporter": "python",
      "pygments_lexer": "ipython3",
      "version": "3.8.8"
    },
    "colab": {
      "provenance": []
    }
  },
  "nbformat": 4,
  "nbformat_minor": 5
}